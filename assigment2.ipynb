{
 "cells": [
  {
   "cell_type": "code",
   "execution_count": 1,
   "id": "8d5f537f",
   "metadata": {},
   "outputs": [
    {
     "name": "stdout",
     "output_type": "stream",
     "text": [
      "Extracted 24 wallet addresses.\n",
      "                                    wallet_id  score\n",
      "0  0x0039f22efb07a647557c7c5d17854cfd6d489ef3   1104\n",
      "1  0x0fe383e5abc200055a7f391f94a5f5d1f844b9ae    424\n",
      "2  0x13b1c8b0e696aff8b4fee742119b549b605f3cbc   1264\n",
      "3  0x1656f1886c5ab634ac19568cd571bc72f385fdf7    467\n",
      "4  0x1c1b30ca93ef57452d53885d97a74f61daf2bf4f    936\n"
     ]
    }
   ],
   "source": [
    "import fitz  # PyMuPDF\n",
    "import pandas as pd\n",
    "import random\n",
    "\n",
    "# Step 1: Extract wallet addresses from PDF\n",
    "pdf_path = r\"C:\\Users\\Administrator\\Desktop\\internshala\\Wallet id - Google Sheets.pdf\"\n",
    "doc = fitz.open(pdf_path)\n",
    "\n",
    "wallets = []\n",
    "for page in doc:\n",
    "    text = page.get_text()\n",
    "    for line in text.splitlines():\n",
    "        if line.strip().startswith(\"0x\") and len(line.strip()) == 42:\n",
    "            wallets.append(line.strip())\n",
    "\n",
    "print(f\"Extracted {len(wallets)} wallet addresses.\")\n",
    "\n",
    "# Step 2: Fetch Compound protocol data (dummy data for demonstration)\n",
    "def fetch_compound_data(wallet):\n",
    "    # Replace this with real API calls to Compound or Covalent\n",
    "    return {\n",
    "        \"wallet_id\": wallet,\n",
    "        \"total_supplied\": random.uniform(0, 10000),\n",
    "        \"total_borrowed\": random.uniform(0, 10000),\n",
    "        \"total_repaid\": random.uniform(0, 10000),\n",
    "        \"num_liquidations\": random.randint(0, 5),\n",
    "        \"tenure_days\": random.randint(10, 1000),\n",
    "    }\n",
    "\n",
    "features = [fetch_compound_data(wallet) for wallet in wallets]\n",
    "df = pd.DataFrame(features)\n",
    "\n",
    "# Step 3: Normalize features\n",
    "for col in [\"total_supplied\", \"total_borrowed\", \"total_repaid\", \"num_liquidations\", \"tenure_days\"]:\n",
    "    df[col + \"_norm\"] = (df[col] - df[col].min()) / (df[col].max() - df[col].min() + 1e-9)\n",
    "\n",
    "# Step 4: Calculate risk score (0-1000)\n",
    "df[\"score\"] = (\n",
    "    0.3 * df[\"total_supplied_norm\"] +\n",
    "    0.2 * (1 - df[\"total_borrowed_norm\"]) +\n",
    "    0.3 * (df[\"total_repaid_norm\"] / (df[\"total_borrowed_norm\"] + 1e-9)) +\n",
    "    0.1 * (1 - df[\"num_liquidations_norm\"]) +\n",
    "    0.1 * df[\"tenure_days_norm\"]\n",
    ") * 1000\n",
    "\n",
    "# Step 5: Export to CSV\n",
    "result = df[[\"wallet_id\", \"score\"]]\n",
    "result = result.copy()  # Add this line to avoid the warning\n",
    "result[\"score\"] = result[\"score\"].astype(int)\n",
    "result.to_csv(\"wallet_risk_scores.csv\", index=False)\n",
    "\n",
    "# Optional: Print a sample\n",
    "print(result.head())"
   ]
  },
  {
   "cell_type": "code",
   "execution_count": 2,
   "id": "5fc4b7eb",
   "metadata": {},
   "outputs": [
    {
     "name": "stdout",
     "output_type": "stream",
     "text": [
      "Requirement already satisfied: PyMuPDF in c:\\users\\administrator\\anaconda3\\lib\\site-packages (1.26.3)\n",
      "Requirement already satisfied: pandas in c:\\users\\administrator\\anaconda3\\lib\\site-packages (2.2.2)\n",
      "Requirement already satisfied: numpy>=1.26.0 in c:\\users\\administrator\\anaconda3\\lib\\site-packages (from pandas) (1.26.4)\n",
      "Requirement already satisfied: python-dateutil>=2.8.2 in c:\\users\\administrator\\appdata\\roaming\\python\\python312\\site-packages (from pandas) (2.9.0.post0)\n",
      "Requirement already satisfied: pytz>=2020.1 in c:\\users\\administrator\\anaconda3\\lib\\site-packages (from pandas) (2024.1)\n",
      "Requirement already satisfied: tzdata>=2022.7 in c:\\users\\administrator\\anaconda3\\lib\\site-packages (from pandas) (2023.3)\n",
      "Requirement already satisfied: six>=1.5 in c:\\users\\administrator\\appdata\\roaming\\python\\python312\\site-packages (from python-dateutil>=2.8.2->pandas) (1.17.0)\n",
      "Note: you may need to restart the kernel to use updated packages.\n"
     ]
    }
   ],
   "source": [
    "pip install PyMuPDF pandas"
   ]
  },
  {
   "cell_type": "code",
   "execution_count": null,
   "id": "2358d48f",
   "metadata": {},
   "outputs": [],
   "source": []
  }
 ],
 "metadata": {
  "kernelspec": {
   "display_name": "base",
   "language": "python",
   "name": "python3"
  },
  "language_info": {
   "codemirror_mode": {
    "name": "ipython",
    "version": 3
   },
   "file_extension": ".py",
   "mimetype": "text/x-python",
   "name": "python",
   "nbconvert_exporter": "python",
   "pygments_lexer": "ipython3",
   "version": "3.12.7"
  }
 },
 "nbformat": 4,
 "nbformat_minor": 5
}
